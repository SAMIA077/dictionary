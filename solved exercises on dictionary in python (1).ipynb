{
 "cells": [
  {
   "cell_type": "code",
   "execution_count": 3,
   "id": "d0630bfb-ac9c-4900-aad1-cbfc982615ce",
   "metadata": {},
   "outputs": [
    {
     "name": "stdout",
     "output_type": "stream",
     "text": [
      "name Samia Muneer\n",
      "age 19\n",
      "city Gujranwala\n",
      "hobbies ['baking', 'painting', 'coding']\n"
     ]
    }
   ],
   "source": [
    "#FA24-BBD-077\n",
    "#PRACRICING DICTIONARY QUESTIONS\n",
    "#PART A\n",
    "information = {\n",
    "    'name': 'Samia Muneer',\n",
    "    'age':  19,\n",
    "    'city': 'Gujranwala',\n",
    "    'hobbies': ['baking', 'painting' , 'coding']\n",
    "}\n",
    "for key,value in information.items():\n",
    "    print(key,value)"
   ]
  },
  {
   "cell_type": "code",
   "execution_count": 7,
   "id": "52d81fc4-5d82-4698-9776-8dafec153704",
   "metadata": {},
   "outputs": [
    {
     "name": "stdout",
     "output_type": "stream",
     "text": [
      "{'Hello': 1, 'students,': 1, 'how': 1, 'are': 1, 'your': 1, 'vacations': 1, 'going': 1, 'and': 1, 'what': 1, 'is': 1, 'the': 1, 'condition': 1, 'of': 1, 'somg': 1, 'now?': 1}\n"
     ]
    }
   ],
   "source": [
    "#PART B \n",
    "\n",
    "text = \"Hello students, how are your vacations going and what is the condition of somg now?\"\n",
    "words = text.split()\n",
    "word_count = {}\n",
    "for word in words:\n",
    "    # If the word is already in the dictionary, increment its count\n",
    "    if word in word_count:\n",
    "        word_count[word] += 1\n",
    "    # If the word is not in the dictionary, add it with a count of 1\n",
    "    else:\n",
    "        word_count[word] = 1\n",
    "\n",
    "# Print the word frequencies\n",
    "print(word_count)"
   ]
  },
  {
   "cell_type": "code",
   "execution_count": 17,
   "id": "6182ff65-9510-4abb-b903-177db15be0fe",
   "metadata": {},
   "outputs": [
    {
     "name": "stdout",
     "output_type": "stream",
     "text": [
      "Initial Inventory:\n",
      "Apples 35\n",
      "Bananas 22\n",
      "\n",
      "Updated Inventory:\n",
      "Apples 40\n",
      "Bananas 19\n"
     ]
    }
   ],
   "source": [
    "#PART C\n",
    "\n",
    "inventory = {'Apples' : 35,\n",
    "             'Bananas' : 22}\n",
    "\n",
    "print(\"Initial Inventory:\")\n",
    "for item, quantity in inventory.items():\n",
    "    print(item, quantity)\n",
    "inventory[\"Apples\"] += 5\n",
    "inventory[\"Bananas\"] -= 3\n",
    "\n",
    "print(\"\\nUpdated Inventory:\")\n",
    "for item, quantity in inventory.items():\n",
    "    print(item, quantity)"
   ]
  },
  {
   "cell_type": "code",
   "execution_count": 19,
   "id": "4fc41498-be9b-491b-b655-3e98fe204279",
   "metadata": {},
   "outputs": [
    {
     "name": "stdout",
     "output_type": "stream",
     "text": [
      "The most popular category is 'Fruits' with 4 orders.\n"
     ]
    }
   ],
   "source": [
    "#PART D\n",
    "\n",
    "orders = [\"Fruits\", \"Fruits\", \"Vegetables\", \"Fruits\", \"Vegetables\", \"Dairy\", \"Dairy\", \"Fruits\"]\n",
    "\n",
    "category_counts = {}\n",
    "for category in orders:\n",
    "    if category in category_counts:\n",
    "        category_counts[category] += 1\n",
    "    else:\n",
    "        category_counts[category] = 1\n",
    "\n",
    "# Find the most popular category\n",
    "most_popular = max(category_counts, key=category_counts.get)\n",
    "print(f\"The most popular category is '{most_popular}' with {category_counts[most_popular]} orders.\")"
   ]
  },
  {
   "cell_type": "code",
   "execution_count": 23,
   "id": "565f1655-2525-4e1c-95aa-397aa9f9c21e",
   "metadata": {},
   "outputs": [
    {
     "name": "stdout",
     "output_type": "stream",
     "text": [
      "86.0\n"
     ]
    }
   ],
   "source": [
    "#PART E \n",
    "\n",
    "grades = {\n",
    "    'SAMIA': 88 , \n",
    "    'LAJEEN' : 90 ,\n",
    "    'AIMA' : 80}\n",
    "sum_of_grades = sum(grades.values())\n",
    "num_of_students = len(grades)\n",
    "average = sum_of_grades/num_of_students \n",
    "\n",
    "print(average)"
   ]
  },
  {
   "cell_type": "code",
   "execution_count": 26,
   "id": "116d1f79-b7a6-4023-a67a-a980c0527b24",
   "metadata": {},
   "outputs": [
    {
     "name": "stdout",
     "output_type": "stream",
     "text": [
      "Total Inventory Value: 152.5\n",
      "Low stock: Oranges\n"
     ]
    }
   ],
   "source": [
    "#PART F\n",
    "\n",
    "inventory = {\n",
    "    \"Apples\": {\"quantity\": 20, \"price\": 5.0},\n",
    "    \"Bananas\": {\"quantity\": 8, \"price\": 2.5},\n",
    "}\n",
    "\n",
    "def add_product(name, quantity, price):\n",
    "    inventory[name] = {\"quantity\": quantity, \"price\": price}\n",
    "\n",
    "def update_quantity(name, quantity):\n",
    "    if name in inventory:\n",
    "        inventory[name][\"quantity\"] += quantity\n",
    "\n",
    "def total_value():\n",
    "    total = 0\n",
    "    for product in inventory:\n",
    "        total += inventory[product][\"quantity\"] * inventory[product][\"price\"]\n",
    "    return total\n",
    "\n",
    "def low_stock():\n",
    "    for product, info in inventory.items():\n",
    "        if info[\"quantity\"] < 5:\n",
    "            print(f\"Low stock: {product}\")\n",
    "            \n",
    "add_product(\"Oranges\", 3, 2.5) \n",
    "update_quantity(\"Apples\", 5)    \n",
    "print(\"Total Inventory Value:\", total_value()) \n",
    "low_stock() "
   ]
  },
  {
   "cell_type": "code",
   "execution_count": 30,
   "id": "fd820af6-b267-4b22-89f5-75771a445f90",
   "metadata": {},
   "outputs": [
    {
     "name": "stdout",
     "output_type": "stream",
     "text": [
      "Average Grades:\n",
      "SAMIA: 36.33\n",
      "LAJEEN: 38.33\n",
      "AIMA: 38.33\n",
      "\n",
      "Math - Highest grade: SAMIA with 36\n",
      "Math - Lowest grade: LAJEEN with 22\n",
      "\n",
      "Students sorted by average grades:\n",
      "LAJEEN: 38.33\n",
      "AIMA: 38.33\n",
      "SAMIA: 36.33\n"
     ]
    }
   ],
   "source": [
    "#PART G\n",
    "students = {\n",
    "    \"SAMIA\": {\"Math\": 36, \"English\": 32, \"Programming\": 41},\n",
    "    \"LAJEEN\": {\"Math\": 22, \"English\": 43, \"Programming\": 50},\n",
    "    \"AIMA\": {\"Math\": 30, \"English\": 47, \"Programming\": 38},\n",
    "}\n",
    "\n",
    "average_grades = {}\n",
    "for student in students:\n",
    "    total = sum(students[student].values())  \n",
    "    count = len(students[student])  \n",
    "    average_grades[student] = total / count \n",
    "\n",
    "print(\"Average Grades:\")\n",
    "for student in average_grades:\n",
    "    print(f\"{student}: {average_grades[student]:.2f}\")\n",
    "\n",
    "subject = \"Math\"\n",
    "subject_grades = {}\n",
    "\n",
    "for student in students:\n",
    "    subject_grades[student] = students[student][subject]\n",
    "\n",
    "highest_grade_student = max(subject_grades, key=subject_grades.get)\n",
    "lowest_grade_student = min(subject_grades, key=subject_grades.get)\n",
    "\n",
    "print(f\"\\n{subject} - Highest grade: {highest_grade_student} with {subject_grades[highest_grade_student]}\")\n",
    "print(f\"{subject} - Lowest grade: {lowest_grade_student} with {subject_grades[lowest_grade_student]}\")\n",
    "\n",
    "\n",
    "sorted_students = sorted(average_grades.items(), key=lambda x: x[1], reverse=True)\n",
    "\n",
    "\n",
    "print(\"\\nStudents sorted by average grades:\")\n",
    "for student, avg_grade in sorted_students:\n",
    "    print(f\"{student}: {avg_grade:.2f}\")"
   ]
  },
  {
   "cell_type": "code",
   "execution_count": 34,
   "id": "209f6d9e-735a-46ab-bf6f-24a8465daecb",
   "metadata": {},
   "outputs": [
    {
     "name": "stdout",
     "output_type": "stream",
     "text": [
      "Cart: {1: 1, 2: 1}\n",
      "Total: 5953.5\n"
     ]
    }
   ],
   "source": [
    "#PART H\n",
    "products = {\n",
    "    1: {\"name\": \"Laptop\", \"price\": 6000, \"quantity\": 25},\n",
    "    2: {\"name\": \"Phone\", \"price\": 300, \"quantity\": 20},\n",
    "    3: {\"name\": \"Tablet\", \"price\": 800, \"quantity\": 35}\n",
    "}\n",
    "\n",
    "cart = {}\n",
    "\n",
    "product_id = 1\n",
    "quantity = 2\n",
    "if product_id in products and products[product_id][\"quantity\"] >= quantity:\n",
    "    if product_id in cart:\n",
    "        cart[product_id] += quantity\n",
    "    else:\n",
    "        cart[product_id] = quantity\n",
    "    products[product_id][\"quantity\"] -= quantity\n",
    "\n",
    "product_id = 2\n",
    "quantity = 1\n",
    "if product_id in products and products[product_id][\"quantity\"] >= quantity:\n",
    "    if product_id in cart:\n",
    "        cart[product_id] += quantity\n",
    "    else:\n",
    "        cart[product_id] = quantity\n",
    "    products[product_id][\"quantity\"] -= quantity\n",
    "\n",
    "product_id = 1\n",
    "quantity = 1\n",
    "if product_id in cart and cart[product_id] >= quantity:\n",
    "    cart[product_id] -= quantity\n",
    "    products[product_id][\"quantity\"] += quantity\n",
    "    if cart[product_id] == 0:\n",
    "        del cart[product_id]\n",
    "\n",
    "total = sum(products[pid][\"price\"] * qty for pid, qty in cart.items())\n",
    "discount = 10\n",
    "tax = 5\n",
    "total -= total * (discount / 100)\n",
    "total += total * (tax / 100)\n",
    "\n",
    "print(\"Cart:\", cart)\n",
    "print(\"Total:\", total)"
   ]
  },
  {
   "cell_type": "code",
   "execution_count": null,
   "id": "bd496a22-0057-43c3-9623-073449f4c54d",
   "metadata": {},
   "outputs": [],
   "source": []
  }
 ],
 "metadata": {
  "kernelspec": {
   "display_name": "Python 3 (ipykernel)",
   "language": "python",
   "name": "python3"
  },
  "language_info": {
   "codemirror_mode": {
    "name": "ipython",
    "version": 3
   },
   "file_extension": ".py",
   "mimetype": "text/x-python",
   "name": "python",
   "nbconvert_exporter": "python",
   "pygments_lexer": "ipython3",
   "version": "3.12.4"
  }
 },
 "nbformat": 4,
 "nbformat_minor": 5
}
